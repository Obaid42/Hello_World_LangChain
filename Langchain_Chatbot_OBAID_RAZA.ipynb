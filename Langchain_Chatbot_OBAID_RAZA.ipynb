{
  "nbformat": 4,
  "nbformat_minor": 0,
  "metadata": {
    "colab": {
      "provenance": [],
      "gpuType": "T4"
    },
    "kernelspec": {
      "name": "python3",
      "display_name": "Python 3"
    },
    "language_info": {
      "name": "python"
    },
    "accelerator": "GPU"
  },
  "cells": [
    {
      "cell_type": "code",
      "source": [
        "from google.colab import userdata\n",
        "GEMINI_API_KEY = userdata.get('GOOGLE_API')"
      ],
      "metadata": {
        "id": "2wz-a_LzsQWv"
      },
      "execution_count": 3,
      "outputs": []
    },
    {
      "cell_type": "code",
      "source": [
        "pip install langchain_google_genai"
      ],
      "metadata": {
        "colab": {
          "base_uri": "https://localhost:8080/"
        },
        "collapsed": true,
        "id": "9kG2cbNE4FNu",
        "outputId": "89491bf1-d7a0-4b4b-ad9f-29f11dfa00d8"
      },
      "execution_count": 4,
      "outputs": [
        {
          "output_type": "stream",
          "name": "stdout",
          "text": [
            "Collecting langchain_google_genai\n",
            "  Downloading langchain_google_genai-2.0.7-py3-none-any.whl.metadata (3.6 kB)\n",
            "Collecting filetype<2.0.0,>=1.2.0 (from langchain_google_genai)\n",
            "  Downloading filetype-1.2.0-py2.py3-none-any.whl.metadata (6.5 kB)\n",
            "Requirement already satisfied: google-generativeai<0.9.0,>=0.8.0 in /usr/local/lib/python3.10/dist-packages (from langchain_google_genai) (0.8.3)\n",
            "Requirement already satisfied: langchain-core<0.4,>=0.3.15 in /usr/local/lib/python3.10/dist-packages (from langchain_google_genai) (0.3.25)\n",
            "Requirement already satisfied: pydantic<3,>=2 in /usr/local/lib/python3.10/dist-packages (from langchain_google_genai) (2.10.3)\n",
            "Requirement already satisfied: google-ai-generativelanguage==0.6.10 in /usr/local/lib/python3.10/dist-packages (from google-generativeai<0.9.0,>=0.8.0->langchain_google_genai) (0.6.10)\n",
            "Requirement already satisfied: google-api-core in /usr/local/lib/python3.10/dist-packages (from google-generativeai<0.9.0,>=0.8.0->langchain_google_genai) (2.19.2)\n",
            "Requirement already satisfied: google-api-python-client in /usr/local/lib/python3.10/dist-packages (from google-generativeai<0.9.0,>=0.8.0->langchain_google_genai) (2.155.0)\n",
            "Requirement already satisfied: google-auth>=2.15.0 in /usr/local/lib/python3.10/dist-packages (from google-generativeai<0.9.0,>=0.8.0->langchain_google_genai) (2.27.0)\n",
            "Requirement already satisfied: protobuf in /usr/local/lib/python3.10/dist-packages (from google-generativeai<0.9.0,>=0.8.0->langchain_google_genai) (4.25.5)\n",
            "Requirement already satisfied: tqdm in /usr/local/lib/python3.10/dist-packages (from google-generativeai<0.9.0,>=0.8.0->langchain_google_genai) (4.67.1)\n",
            "Requirement already satisfied: typing-extensions in /usr/local/lib/python3.10/dist-packages (from google-generativeai<0.9.0,>=0.8.0->langchain_google_genai) (4.12.2)\n",
            "Requirement already satisfied: proto-plus<2.0.0dev,>=1.22.3 in /usr/local/lib/python3.10/dist-packages (from google-ai-generativelanguage==0.6.10->google-generativeai<0.9.0,>=0.8.0->langchain_google_genai) (1.25.0)\n",
            "Requirement already satisfied: PyYAML>=5.3 in /usr/local/lib/python3.10/dist-packages (from langchain-core<0.4,>=0.3.15->langchain_google_genai) (6.0.2)\n",
            "Requirement already satisfied: jsonpatch<2.0,>=1.33 in /usr/local/lib/python3.10/dist-packages (from langchain-core<0.4,>=0.3.15->langchain_google_genai) (1.33)\n",
            "Requirement already satisfied: langsmith<0.3,>=0.1.125 in /usr/local/lib/python3.10/dist-packages (from langchain-core<0.4,>=0.3.15->langchain_google_genai) (0.2.3)\n",
            "Requirement already satisfied: packaging<25,>=23.2 in /usr/local/lib/python3.10/dist-packages (from langchain-core<0.4,>=0.3.15->langchain_google_genai) (24.2)\n",
            "Requirement already satisfied: tenacity!=8.4.0,<10.0.0,>=8.1.0 in /usr/local/lib/python3.10/dist-packages (from langchain-core<0.4,>=0.3.15->langchain_google_genai) (9.0.0)\n",
            "Requirement already satisfied: annotated-types>=0.6.0 in /usr/local/lib/python3.10/dist-packages (from pydantic<3,>=2->langchain_google_genai) (0.7.0)\n",
            "Requirement already satisfied: pydantic-core==2.27.1 in /usr/local/lib/python3.10/dist-packages (from pydantic<3,>=2->langchain_google_genai) (2.27.1)\n",
            "Requirement already satisfied: googleapis-common-protos<2.0.dev0,>=1.56.2 in /usr/local/lib/python3.10/dist-packages (from google-api-core->google-generativeai<0.9.0,>=0.8.0->langchain_google_genai) (1.66.0)\n",
            "Requirement already satisfied: requests<3.0.0.dev0,>=2.18.0 in /usr/local/lib/python3.10/dist-packages (from google-api-core->google-generativeai<0.9.0,>=0.8.0->langchain_google_genai) (2.32.3)\n",
            "Requirement already satisfied: cachetools<6.0,>=2.0.0 in /usr/local/lib/python3.10/dist-packages (from google-auth>=2.15.0->google-generativeai<0.9.0,>=0.8.0->langchain_google_genai) (5.5.0)\n",
            "Requirement already satisfied: pyasn1-modules>=0.2.1 in /usr/local/lib/python3.10/dist-packages (from google-auth>=2.15.0->google-generativeai<0.9.0,>=0.8.0->langchain_google_genai) (0.4.1)\n",
            "Requirement already satisfied: rsa<5,>=3.1.4 in /usr/local/lib/python3.10/dist-packages (from google-auth>=2.15.0->google-generativeai<0.9.0,>=0.8.0->langchain_google_genai) (4.9)\n",
            "Requirement already satisfied: jsonpointer>=1.9 in /usr/local/lib/python3.10/dist-packages (from jsonpatch<2.0,>=1.33->langchain-core<0.4,>=0.3.15->langchain_google_genai) (3.0.0)\n",
            "Requirement already satisfied: httpx<1,>=0.23.0 in /usr/local/lib/python3.10/dist-packages (from langsmith<0.3,>=0.1.125->langchain-core<0.4,>=0.3.15->langchain_google_genai) (0.28.1)\n",
            "Requirement already satisfied: orjson<4.0.0,>=3.9.14 in /usr/local/lib/python3.10/dist-packages (from langsmith<0.3,>=0.1.125->langchain-core<0.4,>=0.3.15->langchain_google_genai) (3.10.12)\n",
            "Requirement already satisfied: requests-toolbelt<2.0.0,>=1.0.0 in /usr/local/lib/python3.10/dist-packages (from langsmith<0.3,>=0.1.125->langchain-core<0.4,>=0.3.15->langchain_google_genai) (1.0.0)\n",
            "Requirement already satisfied: httplib2<1.dev0,>=0.19.0 in /usr/local/lib/python3.10/dist-packages (from google-api-python-client->google-generativeai<0.9.0,>=0.8.0->langchain_google_genai) (0.22.0)\n",
            "Requirement already satisfied: google-auth-httplib2<1.0.0,>=0.2.0 in /usr/local/lib/python3.10/dist-packages (from google-api-python-client->google-generativeai<0.9.0,>=0.8.0->langchain_google_genai) (0.2.0)\n",
            "Requirement already satisfied: uritemplate<5,>=3.0.1 in /usr/local/lib/python3.10/dist-packages (from google-api-python-client->google-generativeai<0.9.0,>=0.8.0->langchain_google_genai) (4.1.1)\n",
            "Requirement already satisfied: grpcio<2.0dev,>=1.33.2 in /usr/local/lib/python3.10/dist-packages (from google-api-core[grpc]!=2.0.*,!=2.1.*,!=2.10.*,!=2.2.*,!=2.3.*,!=2.4.*,!=2.5.*,!=2.6.*,!=2.7.*,!=2.8.*,!=2.9.*,<3.0.0dev,>=1.34.1->google-ai-generativelanguage==0.6.10->google-generativeai<0.9.0,>=0.8.0->langchain_google_genai) (1.68.1)\n",
            "Requirement already satisfied: grpcio-status<2.0.dev0,>=1.33.2 in /usr/local/lib/python3.10/dist-packages (from google-api-core[grpc]!=2.0.*,!=2.1.*,!=2.10.*,!=2.2.*,!=2.3.*,!=2.4.*,!=2.5.*,!=2.6.*,!=2.7.*,!=2.8.*,!=2.9.*,<3.0.0dev,>=1.34.1->google-ai-generativelanguage==0.6.10->google-generativeai<0.9.0,>=0.8.0->langchain_google_genai) (1.62.3)\n",
            "Requirement already satisfied: pyparsing!=3.0.0,!=3.0.1,!=3.0.2,!=3.0.3,<4,>=2.4.2 in /usr/local/lib/python3.10/dist-packages (from httplib2<1.dev0,>=0.19.0->google-api-python-client->google-generativeai<0.9.0,>=0.8.0->langchain_google_genai) (3.2.0)\n",
            "Requirement already satisfied: anyio in /usr/local/lib/python3.10/dist-packages (from httpx<1,>=0.23.0->langsmith<0.3,>=0.1.125->langchain-core<0.4,>=0.3.15->langchain_google_genai) (3.7.1)\n",
            "Requirement already satisfied: certifi in /usr/local/lib/python3.10/dist-packages (from httpx<1,>=0.23.0->langsmith<0.3,>=0.1.125->langchain-core<0.4,>=0.3.15->langchain_google_genai) (2024.12.14)\n",
            "Requirement already satisfied: httpcore==1.* in /usr/local/lib/python3.10/dist-packages (from httpx<1,>=0.23.0->langsmith<0.3,>=0.1.125->langchain-core<0.4,>=0.3.15->langchain_google_genai) (1.0.7)\n",
            "Requirement already satisfied: idna in /usr/local/lib/python3.10/dist-packages (from httpx<1,>=0.23.0->langsmith<0.3,>=0.1.125->langchain-core<0.4,>=0.3.15->langchain_google_genai) (3.10)\n",
            "Requirement already satisfied: h11<0.15,>=0.13 in /usr/local/lib/python3.10/dist-packages (from httpcore==1.*->httpx<1,>=0.23.0->langsmith<0.3,>=0.1.125->langchain-core<0.4,>=0.3.15->langchain_google_genai) (0.14.0)\n",
            "Requirement already satisfied: pyasn1<0.7.0,>=0.4.6 in /usr/local/lib/python3.10/dist-packages (from pyasn1-modules>=0.2.1->google-auth>=2.15.0->google-generativeai<0.9.0,>=0.8.0->langchain_google_genai) (0.6.1)\n",
            "Requirement already satisfied: charset-normalizer<4,>=2 in /usr/local/lib/python3.10/dist-packages (from requests<3.0.0.dev0,>=2.18.0->google-api-core->google-generativeai<0.9.0,>=0.8.0->langchain_google_genai) (3.4.0)\n",
            "Requirement already satisfied: urllib3<3,>=1.21.1 in /usr/local/lib/python3.10/dist-packages (from requests<3.0.0.dev0,>=2.18.0->google-api-core->google-generativeai<0.9.0,>=0.8.0->langchain_google_genai) (2.2.3)\n",
            "Requirement already satisfied: sniffio>=1.1 in /usr/local/lib/python3.10/dist-packages (from anyio->httpx<1,>=0.23.0->langsmith<0.3,>=0.1.125->langchain-core<0.4,>=0.3.15->langchain_google_genai) (1.3.1)\n",
            "Requirement already satisfied: exceptiongroup in /usr/local/lib/python3.10/dist-packages (from anyio->httpx<1,>=0.23.0->langsmith<0.3,>=0.1.125->langchain-core<0.4,>=0.3.15->langchain_google_genai) (1.2.2)\n",
            "Downloading langchain_google_genai-2.0.7-py3-none-any.whl (41 kB)\n",
            "\u001b[2K   \u001b[90m━━━━━━━━━━━━━━━━━━━━━━━━━━━━━━━━━━━━━━━━\u001b[0m \u001b[32m41.3/41.3 kB\u001b[0m \u001b[31m1.7 MB/s\u001b[0m eta \u001b[36m0:00:00\u001b[0m\n",
            "\u001b[?25hDownloading filetype-1.2.0-py2.py3-none-any.whl (19 kB)\n",
            "Installing collected packages: filetype, langchain_google_genai\n",
            "Successfully installed filetype-1.2.0 langchain_google_genai-2.0.7\n"
          ]
        }
      ]
    },
    {
      "cell_type": "code",
      "source": [
        "from langchain_google_genai import ChatGoogleGenerativeAI"
      ],
      "metadata": {
        "collapsed": true,
        "id": "6HxWDTvN4sz7"
      },
      "execution_count": 5,
      "outputs": []
    },
    {
      "cell_type": "code",
      "source": [
        "from langchain_google_genai import ChatGoogleGenerativeAI\n",
        "from langchain.prompts import PromptTemplate"
      ],
      "metadata": {
        "id": "MGb78wicw__a"
      },
      "execution_count": 6,
      "outputs": []
    },
    {
      "cell_type": "code",
      "source": [
        "first_prompt = PromptTemplate (\n",
        "    input_variables = [\"question\"],\n",
        "    template = \"write five points only {question}?\"\n",
        ")\n",
        "\n",
        "second_prompt = PromptTemplate (\n",
        "    input_variables = [\"first_response\"],\n",
        "    template = \"Explain each point in deatils {question}?\"\n",
        ")\n"
      ],
      "metadata": {
        "id": "0zbVXgoayIQl"
      },
      "execution_count": 7,
      "outputs": []
    },
    {
      "cell_type": "code",
      "source": [
        "# Configure the Gemini Flash model\n",
        "llm = ChatGoogleGenerativeAI(\n",
        "    api_key= GEMINI_API_KEY,\n",
        "    model=\"gemini-1.5-flash\",\n",
        ")"
      ],
      "metadata": {
        "collapsed": true,
        "id": "MSsY70BS7SCV"
      },
      "execution_count": 8,
      "outputs": []
    },
    {
      "cell_type": "markdown",
      "source": [],
      "metadata": {
        "id": "Y7AtG-aT7kkL"
      }
    },
    {
      "cell_type": "code",
      "source": [
        "first_chain = first_prompt | llm\n",
        "second_chain = second_prompt | llm"
      ],
      "metadata": {
        "id": "QS0snxtezisx"
      },
      "execution_count": 9,
      "outputs": []
    },
    {
      "cell_type": "code",
      "source": [
        "first_response = first_chain.invoke({\"question\" : \"what is Data Science?\"})\n",
        "print(\"First chain response: \", first_response.content)\n",
        "\n",
        "# Pass both 'first_response' and 'question' to the second chain\n",
        "second_response = second_chain.invoke({\"first_response\" : first_response.content, \"question\": \"What is difference b/w Machine Learning &  Deep Learning?\"})\n",
        "print(\"Second chain   \" , second_response.content) # Print the content of the response, not the chain itself\n"
      ],
      "metadata": {
        "colab": {
          "base_uri": "https://localhost:8080/"
        },
        "collapsed": true,
        "id": "fBC6B9tlCMNb",
        "outputId": "0c52466f-d147-4cfd-fff5-047d1f0d3983"
      },
      "execution_count": 10,
      "outputs": [
        {
          "output_type": "stream",
          "name": "stdout",
          "text": [
            "First chain response:  1. **Extracting knowledge from data:** Data science uses various techniques to uncover patterns, insights, and trends hidden within raw data.\n",
            "\n",
            "2. **Interdisciplinary field:** It combines aspects of statistics, computer science, domain expertise, and visualization.\n",
            "\n",
            "3. **Predictive modeling:**  A core component involves building models to forecast future outcomes or behaviors based on historical data.\n",
            "\n",
            "4. **Data cleaning and preparation:**  A significant portion of the work involves cleaning, transforming, and preparing data for analysis.\n",
            "\n",
            "5. **Communicating insights:**  Effectively communicating findings and actionable insights to stakeholders is crucial.\n",
            "\n",
            "Second chain    Machine learning (ML) and deep learning (DL) are both subfields of artificial intelligence (AI), but they differ significantly in their approaches and capabilities.  Here's a detailed breakdown of their differences:\n",
            "\n",
            "**1. Data Dependency:**\n",
            "\n",
            "* **Machine Learning:** ML algorithms can work effectively with smaller, structured datasets.  They often require significant feature engineering – manually selecting and transforming relevant features from the raw data to improve model accuracy.  The algorithm learns patterns from these pre-processed features.  For example, to predict house prices, you might manually select features like size, location, number of bedrooms, etc., and feed them to the ML model.\n",
            "\n",
            "* **Deep Learning:** DL algorithms thrive on massive amounts of data. The more data they are trained on, the better they perform. They excel at automatically learning features from raw data without much manual intervention.  In the house price prediction example, a DL model might be fed images of houses, location data, and text descriptions, and it would learn relevant features (like architectural style, neighborhood quality) on its own.  This automatic feature extraction is a key advantage.\n",
            "\n",
            "\n",
            "**2. Feature Engineering:**\n",
            "\n",
            "* **Machine Learning:** Requires significant manual feature engineering.  Data scientists spend considerable time selecting, extracting, and transforming relevant features from the raw data. This is a time-consuming and often complex process, requiring domain expertise.  The quality of the model heavily relies on the quality of the engineered features.\n",
            "\n",
            "* **Deep Learning:**  Minimizes the need for manual feature engineering. Deep learning models, particularly convolutional neural networks (CNNs) for images and recurrent neural networks (RNNs) for sequences, can automatically learn hierarchical representations of data, extracting increasingly complex features from raw data. This is a major advantage, reducing the reliance on human expertise in feature selection.\n",
            "\n",
            "\n",
            "**3. Algorithm Complexity:**\n",
            "\n",
            "* **Machine Learning:**  Typically uses simpler algorithms.  Examples include linear regression, logistic regression, support vector machines (SVMs), decision trees, and random forests. These algorithms are relatively easy to understand and interpret.\n",
            "\n",
            "* **Deep Learning:** Employs complex algorithms with multiple layers (hence \"deep\").  These include artificial neural networks (ANNs) with many hidden layers, convolutional neural networks (CNNs) for image processing, recurrent neural networks (RNNs) for sequential data, and generative adversarial networks (GANs) for generating new data.  These models are much more computationally intensive and often harder to interpret.\n",
            "\n",
            "\n",
            "**4. Computational Power:**\n",
            "\n",
            "* **Machine Learning:**  Can run on less powerful hardware.  Many ML algorithms can be trained on standard computers or laptops, especially for smaller datasets.\n",
            "\n",
            "* **Deep Learning:** Requires significantly more computational power.  Training deep learning models, particularly large ones, often necessitates powerful GPUs (graphics processing units) or specialized hardware like TPUs (tensor processing units) due to the massive number of computations involved.\n",
            "\n",
            "\n",
            "**5. Interpretability:**\n",
            "\n",
            "* **Machine Learning:**  Generally more interpretable.  It's often easier to understand how a simpler ML model arrives at its predictions.  Feature importance analysis can help understand which features are most influential.\n",
            "\n",
            "* **Deep Learning:**  Often considered a \"black box.\"  The complex interactions within deep neural networks make it difficult to understand exactly how the model makes predictions.  While techniques exist for trying to interpret DL models (e.g., saliency maps), it remains a significant challenge.\n",
            "\n",
            "\n",
            "**6. Data Types:**\n",
            "\n",
            "* **Machine Learning:** Works well with structured and semi-structured data.  This includes tabular data (like CSV files), databases, and sometimes text data after appropriate preprocessing.\n",
            "\n",
            "* **Deep Learning:**  Can handle various data types, including unstructured data like images, audio, video, and text.  Its ability to learn directly from raw, unstructured data is a key strength.\n",
            "\n",
            "\n",
            "**In Summary:**\n",
            "\n",
            "| Feature         | Machine Learning                               | Deep Learning                                     |\n",
            "|-----------------|-------------------------------------------------|----------------------------------------------------|\n",
            "| Data Dependency | Relatively low                                  | Very high                                          |\n",
            "| Feature Engineering | High                                         | Low (automatic feature extraction)                 |\n",
            "| Algorithm Complexity | Low                                           | High                                             |\n",
            "| Computational Power | Low                                           | Very high                                         |\n",
            "| Interpretability | High                                          | Low (\"black box\")                                |\n",
            "| Data Types      | Structured, semi-structured                      | Structured, semi-structured, and unstructured       |\n",
            "\n",
            "\n",
            "Deep learning can be viewed as a more advanced and powerful subset of machine learning, capable of handling more complex tasks and larger datasets. However, it comes with increased computational demands and reduced interpretability.  The choice between ML and DL depends heavily on the specific problem, available data, computational resources, and the need for model interpretability.\n",
            "\n"
          ]
        }
      ]
    }
  ]
}